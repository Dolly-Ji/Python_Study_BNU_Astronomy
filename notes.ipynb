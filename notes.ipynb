{
 "cells": [
  {
   "cell_type": "markdown",
   "id": "1433e06c",
   "metadata": {},
   "source": [
    "Lesson 2(2025.9.24)"
   ]
  },
  {
   "cell_type": "markdown",
   "id": "f65ee953",
   "metadata": {},
   "source": [
    "课堂练习1"
   ]
  },
  {
   "cell_type": "code",
   "execution_count": 18,
   "id": "87676ff9",
   "metadata": {},
   "outputs": [
    {
     "name": "stdout",
     "output_type": "stream",
     "text": [
      "赤经转化为角度为：10.6846\n",
      "赤纬转化为角度为：41.2692\n"
     ]
    }
   ],
   "source": [
    "# 赤经赤纬\n",
    "ra = '00h42m44.3s'\n",
    "dec = '+41d16m09s'\n",
    "\n",
    "# 提取赤经赤纬中各个值\n",
    "ra_h = float(ra.split('h')[0])\n",
    "ra_m = float(ra.split('h')[1].split('m')[0])\n",
    "ra_s = float(ra.split('h')[1].split('m')[1].split('s')[0])\n",
    "\n",
    "# 计算成角度\n",
    "ang_ra = (ra_h +ra_m/60+ra_s/3600)*15\n",
    "print('赤经转化为角度为：'+'{:.4f}'.format(ang_ra))\n",
    "\n",
    "# 赤纬值的转换\n",
    "dec_d = float(dec.split('d')[0])\n",
    "dec_m = float(dec.split('d')[1].split('m')[0])\n",
    "dec_s = float(dec.split('d')[1].split('m')[1].split('s')[0])\n",
    "\n",
    "# 计算转换成时分秒\n",
    "ang_dec = dec_d +dec_m/60+dec_s/3600\n",
    "print('赤纬转化为角度为：'+'{:.4f}'.format(ang_dec))\n"
   ]
  },
  {
   "cell_type": "code",
   "execution_count": null,
   "id": "b975e7a9",
   "metadata": {},
   "outputs": [
    {
     "name": "stdout",
     "output_type": "stream",
     "text": [
      "5 34 31.97087999999928\n",
      "赤经为5h34m31.9709s\n",
      "22 0 52.0559999999989\n",
      "赤经为22h0m52.0560s\n"
     ]
    }
   ],
   "source": [
    "# 将角度转换成时分秒\n",
    "ra = 83.633212\n",
    "dec = 22.014460\n",
    "\n",
    "# 赤经转换\n",
    "ra_h = int(ra/15)\n",
    "ra_m = int((ra/15-ra_h)*60)\n",
    "ra_s = (ra/15-ra_h-ra_m/60)*3600\n",
    "print(ra_h,ra_m,ra_s)\n",
    "print('赤经为'+str(ra_h)+'h'+str(ra_m)+'m'+str('{:.4f}'.format(ra_s))+'s')\n",
    "\n",
    "# 赤纬转换\n",
    "dec_h = int(dec) #可以用整除、取余代替\n",
    "dec_m = int((dec-dec_h)*60)\n",
    "dec_s = (dec-dec_h-dec_m/60)*3600\n",
    "print(dec_h,dec_m,dec_s)\n",
    "print('赤经为'+str(dec_h)+'h'+str(dec_m)+'m'+str('{:.4f}'.format(dec_s))+'s')"
   ]
  },
  {
   "cell_type": "markdown",
   "id": "0a523d39",
   "metadata": {},
   "source": [
    "for 循环"
   ]
  },
  {
   "cell_type": "code",
   "execution_count": null,
   "id": "1f76726f",
   "metadata": {},
   "outputs": [
    {
     "name": "stdout",
     "output_type": "stream",
     "text": [
      "2\n",
      "3\n",
      "5\n",
      "7\n",
      "0\n",
      "1\n",
      "2\n",
      "3\n",
      "4\n",
      "0 before break\n",
      "0 before conti\n",
      "1 before conti\n",
      "2 before conti\n",
      "3 before conti\n",
      "4 before conti\n"
     ]
    }
   ],
   "source": [
    "# if条件语句，for,while循环注意在终端里要注意空格\n",
    "\n",
    "for i in [2,3,5,7]:\n",
    "    print(i)\n",
    "\n",
    "for i in range(5):\n",
    "    print(i)\n",
    "\n",
    "\n",
    "for i in range(5):\n",
    "    print(i,'before break')\n",
    "    break  # 退出循环\n",
    "    print(i,'after break')\n",
    "\n",
    "for i in range(5):\n",
    "    print(i,'before conti')\n",
    "    continue  # 跳过下面的内容，行下一个循环\n",
    "    print(i,'after conti')\n"
   ]
  },
  {
   "cell_type": "markdown",
   "id": "99b75ec3",
   "metadata": {},
   "source": [
    "练习1：最大公约数"
   ]
  },
  {
   "cell_type": "code",
   "execution_count": 27,
   "id": "8648a3ee",
   "metadata": {},
   "outputs": [
    {
     "name": "stdout",
     "output_type": "stream",
     "text": [
      "1498\n",
      "701\n",
      "96\n",
      "29\n",
      "9\n",
      "2\n",
      "1\n",
      "8191和9689的最大公约数为:1\n"
     ]
    }
   ],
   "source": [
    "a = 9689\n",
    "b = 8191\n",
    "c = 0\n",
    "while a%b != 0:\n",
    "    c = a%b\n",
    "    a = b\n",
    "    b = c\n",
    "    print(b)\n",
    "\n",
    "print('8191和9689的最大公约数为:'+str(b))\n"
   ]
  },
  {
   "cell_type": "markdown",
   "id": "19659b10",
   "metadata": {},
   "source": [
    "练习2：数值解方程"
   ]
  },
  {
   "cell_type": "code",
   "execution_count": 37,
   "id": "32e0ad00",
   "metadata": {},
   "outputs": [
    {
     "name": "stdout",
     "output_type": "stream",
     "text": [
      "0.004458181860256261 0.46\n"
     ]
    }
   ],
   "source": [
    "# 精度：三位小数\n",
    "import numpy as np\n",
    "wall  = 1\n",
    "for i in range(0,100):\n",
    "    x = i/100\n",
    "    dif = abs(2**x - 3*x)\n",
    "    if wall >dif:\n",
    "        wall = dif\n",
    "        x_0 = x\n",
    "\n",
    "print(wall,x_0)"
   ]
  },
  {
   "cell_type": "code",
   "execution_count": null,
   "id": "cb738169",
   "metadata": {},
   "outputs": [
    {
     "name": "stdout",
     "output_type": "stream",
     "text": [
      "10.875133999999946\n"
     ]
    }
   ],
   "source": [
    "dif = 365.242190 -12 * 29.530588\n",
    "print(dif)\n",
    "\n",
    "day_year = 365.242190\n",
    "day_month = "
   ]
  }
 ],
 "metadata": {
  "kernelspec": {
   "display_name": "base",
   "language": "python",
   "name": "python3"
  },
  "language_info": {
   "codemirror_mode": {
    "name": "ipython",
    "version": 3
   },
   "file_extension": ".py",
   "mimetype": "text/x-python",
   "name": "python",
   "nbconvert_exporter": "python",
   "pygments_lexer": "ipython3",
   "version": "3.12.7"
  }
 },
 "nbformat": 4,
 "nbformat_minor": 5
}
