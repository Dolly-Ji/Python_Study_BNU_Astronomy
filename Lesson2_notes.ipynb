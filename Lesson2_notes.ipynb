{
 "cells": [
  {
   "cell_type": "markdown",
   "id": "cd26d525",
   "metadata": {},
   "source": [
    "Lesson 2"
   ]
  },
  {
   "cell_type": "markdown",
   "id": "02e17a40",
   "metadata": {},
   "source": [
    "格式化输出"
   ]
  },
  {
   "cell_type": "code",
   "execution_count": 2,
   "id": "f81d2384",
   "metadata": {},
   "outputs": [
    {
     "name": "stdout",
     "output_type": "stream",
     "text": [
      "Tom was 20 years old.\n",
      "Tom was 20 years old.\n",
      "Tom was 20 years old.\n"
     ]
    }
   ],
   "source": [
    "# 对输出的字符串进行格式设置（主要是拼接）\n",
    "age = 20\n",
    "name = 'Tom'\n",
    "print(name,'was',age,'years old.')# 不要求类型相同，且自动空格\n",
    "print(name + ' was ' + str(age) + ' years old.') # 要求类型相同，不会自动空格（需要字符串自带）\n",
    "print('{0} was {1} years old.'.format(name,age))"
   ]
  },
  {
   "cell_type": "code",
   "execution_count": null,
   "id": "1dc90905",
   "metadata": {},
   "outputs": [
    {
     "name": "stdout",
     "output_type": "stream",
     "text": [
      "0.3333333333333333\n",
      " 0.333\n",
      "0.333\n"
     ]
    }
   ],
   "source": [
    "# 对输出的数字进行格式设置\n",
    "print(1.0/3)\n",
    "print('%6.3f' %(1./3)) # %表示格式定义,6表示总长,3表示小数位，f表示浮点数\n",
    "print('{0:.3f}'.format(1./3)) # 0表示输出的第一个变量"
   ]
  },
  {
   "cell_type": "code",
   "execution_count": null,
   "id": "c28bc123",
   "metadata": {},
   "outputs": [
    {
     "name": "stdout",
     "output_type": "stream",
     "text": [
      "3.14\n",
      "-1.00\n",
      "3\n",
      "3\n",
      "05\n",
      "5xxx\n",
      "1,000,000\n",
      "25.00%\n",
      "1.00e+09\n",
      "        13\n",
      "    13    \n"
     ]
    }
   ],
   "source": [
    "# format格式\n",
    "print('{:.2f}'.format(3.14))# 保留小数点后两位\n",
    "print('{:+.2f}'.format(-1))# 带符号保留小数点后两位\n",
    "print('{:.0f}'.format(2.71828))# 不带小数（四舍五入）,用法类似round函数\n",
    "print(round(2.71828))\n",
    "\n",
    "print('{:0>2d}'.format(5))# 在数字左边填充零使满足长度为2\n",
    "print('{:x<4d}'.format(5))# 在数字右边填充x使满足长度为5\n",
    "print('{:>10d}'.format(13))# 在左侧填充空格使满足长度为13\n",
    "print('{:^10d}'.format(13))# 中间对齐\n",
    "\n",
    "print('{:,}'.format(1000000))# 用逗号隔开\n",
    "print('{:.2%}'.format(0.25))# 百分比格式\n",
    "print('{:.2e}'.format(1000000000))# 科学计数法\n",
    "\n",
    "# 总结： . 之后都表示小数的限制"
   ]
  },
  {
   "cell_type": "markdown",
   "id": "f65ee953",
   "metadata": {},
   "source": [
    "课堂练习1：赤经赤纬的表示方法变换\n",
    "赤经坐标有时分秒和角度两种表示方式，而角度有时分秒和小数点的时两种表示方式。\n",
    "赤经：1h $\\longrightarrow$ $15^{\\circ}$   hms .\n",
    "赤纬：dms .\n",
    "\n",
    "点评：一定要小心赤经赤纬的转换运算方式上的不同！"
   ]
  },
  {
   "cell_type": "code",
   "execution_count": null,
   "id": "87676ff9",
   "metadata": {},
   "outputs": [
    {
     "name": "stdout",
     "output_type": "stream",
     "text": [
      "赤经转化为角度为：10.6846°\n",
      "赤纬转化为角度为：-41.2692°\n"
     ]
    }
   ],
   "source": [
    "# 将赤经赤纬转换成角度值\n",
    "# 赤经赤纬\n",
    "ra = '00h42m44.3s'\n",
    "dec = '+41d16m09s'\n",
    "\n",
    "# 提取赤经赤纬中各个值\n",
    "ra_h = float(ra.split('h')[0])\n",
    "ra_m = float(ra.split('h')[1].split('m')[0])\n",
    "ra_s = float(ra.split('h')[1].split('m')[1].split('s')[0])\n",
    "\n",
    "# 赤纬值的转换\n",
    "dec_d = float(dec.split('d')[0])\n",
    "dec_m = float(dec.split('d')[1].split('m')[0])\n",
    "dec_s = float(dec.split('d')[1].split('m')[1].split('s')[0])\n",
    "\n",
    "# 赤经赤纬是正/负值时处理方法不一致\n",
    "def ang(s1,s2,s3):\n",
    "    if s1 >= 0:\n",
    "        angl = s1 + s2 / 60 + s3 / 3600\n",
    "    else:\n",
    "        angl = s1 - s2 / 60 - s3 /3600        \n",
    "    return angl\n",
    "\n",
    "# 计算成角度\n",
    "ang_ra = ang(ra_h,ra_m,ra_s) * 15\n",
    "print('赤经转化为角度为：'+'{:.4f}'.format(ang_ra) + '°')\n",
    "\n",
    "# 计算转换成时分秒\n",
    "ang_dec = ang(dec_d,dec_m,dec_s)\n",
    "print('赤纬转化为角度为：'+'{:.4f}'.format(ang_dec) + '°')"
   ]
  },
  {
   "cell_type": "code",
   "execution_count": null,
   "id": "b975e7a9",
   "metadata": {},
   "outputs": [
    {
     "name": "stdout",
     "output_type": "stream",
     "text": [
      "赤经为5h34m31.9709s\n",
      "赤经为22h0m52.0560s\n"
     ]
    }
   ],
   "source": [
    "# 将角度转换成时分秒\n",
    "ra = 83.633212\n",
    "dec = 22.014460\n",
    "\n",
    "# 赤经转换\n",
    "ra_h = int(ra/15)\n",
    "ra_m = int((ra/15-ra_h)*60)\n",
    "ra_s = (ra/15-ra_h-ra_m/60)*3600\n",
    "print('赤经为'+str(ra_h)+'h'+str(ra_m)+'m'+str('{:.4f}'.format(ra_s))+'s')\n",
    "\n",
    "# 赤纬转换\n",
    "dec_h = int(dec) #可以用整除、取余代替\n",
    "dec_m = int((dec-dec_h)*60)\n",
    "dec_s = (dec-dec_h-dec_m/60)*3600\n",
    "print('赤纬为'+str(dec_h)+'h'+str(dec_m)+'m'+str('{:.4f}'.format(dec_s))+'s')"
   ]
  },
  {
   "cell_type": "code",
   "execution_count": 17,
   "id": "2c85f83e",
   "metadata": {},
   "outputs": [
    {
     "name": "stdout",
     "output_type": "stream",
     "text": [
      "赤经为5h34m31.9709s\n",
      "赤纬为22h0m52.0560s\n"
     ]
    }
   ],
   "source": [
    "# 整除、取余标准方法一：\n",
    "ra = 83.633212\n",
    "dec = 22.014460\n",
    "\n",
    "# 赤经转换\n",
    "ra_h = ra // 15\n",
    "ra_m = ra % 15 * 60 //15\n",
    "ra_s = ra % 15 * 60 % 15 * 60 / 15\n",
    "print('赤经为'+'{:.0f}'.format(ra_h)+'h'+'{:.0f}'.format(ra_m)+'m'+str('{:.4f}'.format(ra_s))+'s')# 用format格式不用先转为str再format\n",
    "\n",
    "# 赤纬转换\n",
    "dec_h = dec // 1\n",
    "dec_m = dec % 1 * 60 // 1\n",
    "dec_s = dec % 1 * 60 % 1 * 60 \n",
    "print('赤纬为'+'{:.0f}'.format(dec_h)+'h'+'{:.0f}'.format(dec_m)+'m'+str('{:.4f}'.format(dec_s))+'s')"
   ]
  },
  {
   "cell_type": "code",
   "execution_count": null,
   "id": "623b7876",
   "metadata": {},
   "outputs": [
    {
     "name": "stdout",
     "output_type": "stream",
     "text": [
      "赤经为5h34m31.9709s\n"
     ]
    }
   ],
   "source": [
    "# 整除、取余标准方法二：\n",
    "ra = 83.633212\n",
    "dec = 22.014460\n",
    "\n",
    "# 赤经转换\n",
    "ra = ra / 15\n",
    "ra_h = ra // 1\n",
    "ra_m = ra % 1 * 60 // 1\n",
    "ra_s = ra % 1 * 60 % 1 * 60\n",
    "print('赤经为'+'{:.0f}'.format(ra_h)+'h'+'{:.0f}'.format(ra_m)+'m'+str('{:.4f}'.format(ra_s))+'s')# 用format格式不用先转为str再format"
   ]
  },
  {
   "cell_type": "markdown",
   "id": "a61a20df",
   "metadata": {},
   "source": [
    "赋值\n",
    "变量名：字母、数字、下划线组成，不能以数字开头，注意区分大小写！"
   ]
  },
  {
   "cell_type": "code",
   "execution_count": null,
   "id": "2818f94f",
   "metadata": {},
   "outputs": [
    {
     "name": "stdout",
     "output_type": "stream",
     "text": [
      "1 2 1\n"
     ]
    }
   ],
   "source": [
    "a = 1 ; b = 2\n",
    "c = a ; a = b ; b = c \n",
    "a,b = b,a# 仍然按顺序进行赋值\n",
    "print(a,b,c)"
   ]
  },
  {
   "cell_type": "markdown",
   "id": "27556e0c",
   "metadata": {},
   "source": [
    "结构控制——判断"
   ]
  },
  {
   "cell_type": "code",
   "execution_count": 21,
   "id": "1ccefdf9",
   "metadata": {},
   "outputs": [
    {
     "name": "stdout",
     "output_type": "stream",
     "text": [
      "x=2\n",
      "3\n",
      "2\n"
     ]
    }
   ],
   "source": [
    "x = 2\n",
    "if x > 2:\n",
    "    print('x>2')\n",
    "elif x < 2 :\n",
    "    print('x<2')\n",
    "else:\n",
    "    print('x=2')\n",
    "    print(x+1)\n",
    "print(x)"
   ]
  },
  {
   "cell_type": "markdown",
   "id": "0a523d39",
   "metadata": {},
   "source": [
    "for 循环 : 已知循环次数"
   ]
  },
  {
   "cell_type": "code",
   "execution_count": null,
   "id": "1f76726f",
   "metadata": {},
   "outputs": [
    {
     "name": "stdout",
     "output_type": "stream",
     "text": [
      "2\n",
      "3\n",
      "5\n",
      "7\n",
      "0\n",
      "1\n",
      "2\n",
      "3\n",
      "4\n",
      "4\n",
      "0 before break\n",
      "0 before conti\n",
      "1 before conti\n",
      "2 before conti\n",
      "3 before conti\n",
      "4 before conti\n"
     ]
    }
   ],
   "source": [
    "# for,while循环注意在终端里要注意空格\n",
    "\n",
    "for i in [2,3,5,7]:\n",
    "    print(i)\n",
    "\n",
    "for i in range(5):# 从0-4\n",
    "    print(i)\n",
    "print(i)\n",
    "\n",
    "\n",
    "for i in range(5):\n",
    "    print(i,'before break')\n",
    "    break  # 退出循环\n",
    "    print(i,'after break')\n",
    "\n",
    "for i in range(5):\n",
    "    print(i,'before conti')\n",
    "    continue  # 跳过下面的内容，行下一个循环\n",
    "    print(i,'after conti')\n"
   ]
  },
  {
   "cell_type": "markdown",
   "id": "43303c84",
   "metadata": {},
   "source": [
    "while循环 ： 未知循环次数"
   ]
  },
  {
   "cell_type": "code",
   "execution_count": 1,
   "id": "44f20ecc",
   "metadata": {},
   "outputs": [
    {
     "name": "stdout",
     "output_type": "stream",
     "text": [
      "0\n",
      "1\n",
      "2\n",
      "3\n",
      "4\n",
      "5\n"
     ]
    }
   ],
   "source": [
    "i = 0\n",
    "while i < 5:\n",
    "    print(i)\n",
    "    i = i + 1\n",
    "print(i)\n",
    "\n",
    "i = 0\n",
    "while 0 :# 循环永远不会执行\n",
    "    print(i)\n",
    "# while 1 :# 循环无限循环\n",
    "#     print(i)\n",
    "\n"
   ]
  },
  {
   "cell_type": "markdown",
   "id": "2095f56a",
   "metadata": {},
   "source": [
    "定义函数"
   ]
  },
  {
   "cell_type": "code",
   "execution_count": 2,
   "id": "7430ffb4",
   "metadata": {},
   "outputs": [
    {
     "name": "stdout",
     "output_type": "stream",
     "text": [
      "3\n",
      "None\n"
     ]
    }
   ],
   "source": [
    "def add(a,b):\n",
    "    print(a+b)\n",
    "c = add(1,2)\n",
    "print(c)"
   ]
  },
  {
   "cell_type": "markdown",
   "id": "5888b1ef",
   "metadata": {},
   "source": [
    "易犯错误：\n",
    "1.缩进indent错误（尤其是终端）\n",
    "2.语法错误（判断，循环，定义函数都要有冒号syntax）"
   ]
  },
  {
   "cell_type": "markdown",
   "id": "99b75ec3",
   "metadata": {},
   "source": [
    "练习1：最大公约数（辗转相除法）"
   ]
  },
  {
   "cell_type": "code",
   "execution_count": null,
   "id": "8648a3ee",
   "metadata": {},
   "outputs": [
    {
     "name": "stdout",
     "output_type": "stream",
     "text": [
      "8191\n",
      "1498\n",
      "701\n",
      "96\n",
      "29\n",
      "9\n",
      "2\n",
      "1\n",
      "8191和9689的最大公约数为:1\n"
     ]
    }
   ],
   "source": [
    "# 法一：\n",
    "a = 8191\n",
    "b = 9689\n",
    "c = 0\n",
    "while a%b != 0:\n",
    "    c = a%b\n",
    "    a = b\n",
    "    b = c\n",
    "    print(b)\n",
    "\n",
    "print('8191和9689的最大公约数为:'+str(b))\n"
   ]
  },
  {
   "cell_type": "code",
   "execution_count": 6,
   "id": "ce3fb237",
   "metadata": {},
   "outputs": [
    {
     "name": "stdout",
     "output_type": "stream",
     "text": [
      "1\n"
     ]
    }
   ],
   "source": [
    "# 法二：\n",
    "def gcd(a,b):\n",
    "    while a!=0:\n",
    "        a,b = b%a,a\n",
    "    return b\n",
    "print(gcd(8191,9689))"
   ]
  },
  {
   "cell_type": "code",
   "execution_count": 7,
   "id": "b91f652f",
   "metadata": {},
   "outputs": [
    {
     "name": "stdout",
     "output_type": "stream",
     "text": [
      "2\n"
     ]
    }
   ],
   "source": [
    "# 法三：\n",
    "def gcd(x,y):\n",
    "    mod = x % y\n",
    "    if mod:\n",
    "        return gcd(y,mod)\n",
    "    else:\n",
    "        return y\n",
    "print(gcd(278,160))"
   ]
  },
  {
   "cell_type": "markdown",
   "id": "19659b10",
   "metadata": {},
   "source": [
    "练习2：数值解方程"
   ]
  },
  {
   "cell_type": "code",
   "execution_count": null,
   "id": "32e0ad00",
   "metadata": {},
   "outputs": [
    {
     "name": "stdout",
     "output_type": "stream",
     "text": [
      "0.004458181860256261 0.46\n"
     ]
    }
   ],
   "source": [
    "# 精度：三位小数\n",
    "import numpy as np\n",
    "wall  = 1\n",
    "for i in range(0,100):# 必须是整数\n",
    "    x = i/100\n",
    "    dif = abs(2**x - 3*x)\n",
    "    if wall >dif:\n",
    "        wall = dif\n",
    "        x_0 = x\n",
    "\n",
    "print(wall,x_0)"
   ]
  },
  {
   "cell_type": "markdown",
   "id": "3f4242d3",
   "metadata": {},
   "source": [
    "练习：闰月设置"
   ]
  },
  {
   "cell_type": "code",
   "execution_count": null,
   "id": "cb738169",
   "metadata": {},
   "outputs": [
    {
     "name": "stdout",
     "output_type": "stream",
     "text": [
      "10.875133999999946\n"
     ]
    }
   ],
   "source": [
    "dif = 365.242190 -12 * 29.530588\n",
    "print(dif)\n",
    "\n",
    "day_year = 365.242190"
   ]
  },
  {
   "cell_type": "markdown",
   "id": "cfb44e05",
   "metadata": {},
   "source": [
    "作业：鲍尔默面试题\n",
    "我在心里选择一个 1 到 100 之间的整数，你来猜这个数字。每次猜完，我会告诉你，答案比你猜的大还是小。如果猜错，你可以接着猜，直到猜中为止。\n",
    "如果你只用一次就猜中，我给你 5 美元，用两次猜中我给你 4 美元，三次 3 美元，四次 2 美元，五次 1 美元，六次 0 美元。\n",
    "你还是没猜中的话，就要倒贴钱了。七次猜中，你给我 1 美元，八次 2 美元，九次 3 美元。\n",
    "请问你应该玩这个游戏吗？"
   ]
  },
  {
   "cell_type": "code",
   "execution_count": 8,
   "id": "4b0329e7",
   "metadata": {},
   "outputs": [
    {
     "name": "stdout",
     "output_type": "stream",
     "text": [
      "使用二分法进行猜数时，当正确答案遍历1-100时，总的获利为：20\n",
      "可以获利，该玩这个游戏！\n",
      "获利的期望值为:0.20\n"
     ]
    }
   ],
   "source": [
    "# 获胜概率最大的方法是二分法\n",
    "\n",
    "reward = 0 # 初始化参数，非常重要!!\n",
    "\n",
    "# 1-100内的整数都有可能为正确答案（等可能），采用遍历计算的方法\n",
    "for i in range(1,101):\n",
    "    start = 1\n",
    "    end = 100\n",
    "    n = 1  # 写循环的时候要注意参数在每次循环时是否需要重置（循环外还是循环内）\n",
    "    guess = ( start + end ) //2\n",
    "    while guess != i :   # 一直猜到正确位置，循环次数未知\n",
    "         if guess > i :\n",
    "             n = n + 1\n",
    "             end = guess - 1  # 缩小寻找的范围并且避免了100无法猜到的情况\n",
    "             guess = ( start + end ) //2\n",
    "         if guess < i :\n",
    "             n = n + 1\n",
    "             start = guess + 1 # 缩小寻找的范围并且避免了100无法猜到的情况\n",
    "             guess = ( start + end ) //2\n",
    "    \n",
    "    reward = reward + (6 - n)\n",
    "\n",
    "print('使用二分法进行猜数时，当正确答案遍历1-100时，总的获利为：' + str(reward) )\n",
    "\n",
    "# 判断该不该玩这个游戏\n",
    "if reward > 0 :\n",
    "    print('可以获利，该玩这个游戏！')\n",
    "elif reward < 0 :\n",
    "    print('无法获利，不该玩这个游戏！')\n",
    "else :\n",
    "    print('都可以！')\n",
    "\n",
    "# 计算期望\n",
    "E_reward = reward / 100\n",
    "print('获利的期望值为:'+ '{:.2f}'.format(E_reward))"
   ]
  }
 ],
 "metadata": {
  "kernelspec": {
   "display_name": "base",
   "language": "python",
   "name": "python3"
  },
  "language_info": {
   "codemirror_mode": {
    "name": "ipython",
    "version": 3
   },
   "file_extension": ".py",
   "mimetype": "text/x-python",
   "name": "python",
   "nbconvert_exporter": "python",
   "pygments_lexer": "ipython3",
   "version": "3.12.7"
  }
 },
 "nbformat": 4,
 "nbformat_minor": 5
}
